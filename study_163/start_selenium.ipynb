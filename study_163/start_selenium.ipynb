{
 "cells": [
  {
   "cell_type": "code",
   "execution_count": 1,
   "metadata": {},
   "outputs": [],
   "source": [
    "import requests"
   ]
  },
  {
   "cell_type": "code",
   "execution_count": 4,
   "metadata": {},
   "outputs": [],
   "source": [
    "url = \"http://127.0.0.1:5000/login\"\n",
    "form_data = {\n",
    "    \"phone\":\"admin\",\n",
    "    \"password\":\"admin123\",\n",
    "}"
   ]
  },
  {
   "cell_type": "code",
   "execution_count": 10,
   "metadata": {},
   "outputs": [],
   "source": [
    "response = requests.post(url=url,data=form_data)"
   ]
  },
  {
   "cell_type": "code",
   "execution_count": 11,
   "metadata": {},
   "outputs": [
    {
     "data": {
      "text/plain": [
       "<Response [200]>"
      ]
     },
     "execution_count": 11,
     "metadata": {},
     "output_type": "execute_result"
    }
   ],
   "source": [
    "response"
   ]
  },
  {
   "cell_type": "code",
   "execution_count": 12,
   "metadata": {},
   "outputs": [
    {
     "data": {
      "text/plain": [
       "'<html>\\n<head>\\n\\t<meta charset=\"utf-8\"/>\\n\\t <!-- Bootstrap core CSS -->\\n  \\t<link href=\"http://127.0.0.1:5000/static/bootstrap/css/bootstrap.css\" rel=\"stylesheet\">\\n  \\t<link rel=\"stylesheet\" href=\"http://127.0.0.1:5000/static/bootstrap/font-awesome/css/font-awesome.min.css\">\\n</head>\\n<body>\\n<nav class=\"navbar navbar-inverse container\">\\n  <div class=\"container\">\\n    <!-- Brand and toggle get grouped for better mobile display -->\\n    <div class=\"navbar-header\">\\n      <button type=\"button\" class=\"navbar-toggle collapsed\" data-toggle=\"collapse\" data-target=\"#bs-example-navbar-collapse-1\" aria-expanded=\"false\">\\n        <span class=\"sr-only\">Toggle navigation</span>\\n        <span class=\"icon-bar\"></span>\\n        <span class=\"icon-bar\"></span>\\n        <span class=\"icon-bar\"></span>\\n      </button>\\n      <a class=\"navbar-brand\" href=\"#\">生活点滴</a>\\n    </div>\\n\\n    <!-- Collect the nav links, forms, and other content for toggling -->\\n    <div class=\"collapse navbar-collapse\" id=\"bs-example-navbar-collapse-1\">\\n      <ul class=\"nav navbar-nav navbar-right\">\\n          \\n              <li><a class=\"username\" href=\"#\">用户：admin</a></li>\\n              <li><a href=\"/logout\">Logout</a></li>\\n          \\n      </ul>\\n    </div><!-- /.navbar-collapse -->\\n  </div><!-- /.container-fluid -->\\n</nav>\\n\\n  <div class=\"container\">\\n       \\n            \\n            \\n          \\n  </div>\\n  \\n<div class=\"container\">\\n\\t<div class=\"page-header\">\\n\\t\\n\\t\\t<div class=\"list-group\">\\n\\t\\t\\t<a class=\"list-group-item active\">\\n\\t\\t\\t    <h4 class=\"list-group-item-heading\">Duty-list</h4>\\n\\t\\t\\t</a>\\n\\t  \\n\\t \\t </div>\\n\\t\\t \\n\\t</div>\\n</div>\\n<div class=\"container\">\\n\\t<form class=\"form-inline\">\\n\\t  <div class=\"form-group\">\\n\\t    <label for=\"exampleInputEmail2\">Category</label>\\n\\t    <select class=\"form-control\" name=\"name\">\\n\\t    \\t  \\n\\n              \\n                   <option value=\"1\">新闻</option>\\n              \\n            \\n\\t\\t</select>\\n\\t  </div>\\n\\t  <button type=\"submit\" class=\"btn btn-default\">Search</button>\\n\\t</form>\\n\\t<a class=\"btn btn-danger\" href=\"/add_duty\">ADD</a><a class=\"btn btn-success\" href=\"/add_category\">Add Category</a>\\n</div>\\n<div class=\"container\">\\n  \\t\\t<table class=\" table table-hover\">\\n  \\t\\t\\t<thead>\\n  \\t\\t\\t\\t<th class=\"active\">ID</th>\\n  \\t\\t\\t\\t<th class=\"active\">Title</th>\\n  \\t\\t\\t\\t<th class=\"active\">Category</th>\\n  \\t\\t\\t\\t<th class=\"active\">是否公开</th>\\n  \\t\\t\\t\\t<th class=\"active\">是否完成</th>\\n  \\t\\t\\t\\t<th class=\"active\">创建时间</th>\\n  \\t\\t\\t</thead>\\n  \\t\\t\\t<tbody>\\n  \\t\\t\\t\\t\\n  \\t\\t\\t\\t\\n\\t\\t\\t\\t<tr>\\n\\t\\t\\t\\t  <td class=\"active\">1</td>\\n\\t\\t\\t\\t  <td class=\"success\">伟大的盖茨比</td>\\n\\t\\t\\t\\t  <td class=\"warning\">新闻</td>\\n\\t\\t\\t\\t  <td class=\"danger\">是</td>\\n\\t\\t\\t\\t  <td class=\"info\">是</td>\\n\\t\\t\\t\\t  <td class=\"info\">1527991358.9858093</td>\\n\\t\\t\\t\\t</tr>\\n\\t\\t\\t\\t \\n\\t\\t\\t\\t\\n  \\t\\t\\t</tbody>\\n\\n\\t\\t</table>\\n</div>\\n\\n  <!-- JavaScript -->\\n  <script src=\"http://127.0.0.1:5000/static/bootstrap/js/jquery.js\"></script>\\n  <script src=\"http://127.0.0.1:5000/static/bootstrap/js/bootstrap.js\"></script>\\n  <nav class=\"navbar navbar-default navbar-fixed-bottom\">\\n  <div class=\"container\">\\n        \\n  </div><!-- /.container-fluid -->\\n  </nav>\\n</body>\\n</html>'"
      ]
     },
     "execution_count": 12,
     "metadata": {},
     "output_type": "execute_result"
    }
   ],
   "source": [
    "response.text"
   ]
  },
  {
   "cell_type": "code",
   "execution_count": 27,
   "metadata": {},
   "outputs": [
    {
     "data": {
      "text/plain": [
       "'http://127.0.0.1:5000/my_duty'"
      ]
     },
     "execution_count": 27,
     "metadata": {},
     "output_type": "execute_result"
    }
   ],
   "source": [
    "response.url"
   ]
  },
  {
   "cell_type": "code",
   "execution_count": 28,
   "metadata": {},
   "outputs": [
    {
     "data": {
      "text/plain": [
       "<RequestsCookieJar[]>"
      ]
     },
     "execution_count": 28,
     "metadata": {},
     "output_type": "execute_result"
    }
   ],
   "source": [
    "response.cookies"
   ]
  },
  {
   "cell_type": "code",
   "execution_count": 29,
   "metadata": {},
   "outputs": [],
   "source": [
    "## requests 302跳转\n",
    "resp302 = response.history[0]"
   ]
  },
  {
   "cell_type": "code",
   "execution_count": 30,
   "metadata": {},
   "outputs": [],
   "source": [
    "session_value = resp302.headers['Set-Cookie']"
   ]
  },
  {
   "cell_type": "code",
   "execution_count": 33,
   "metadata": {},
   "outputs": [
    {
     "ename": "SyntaxError",
     "evalue": "invalid syntax (<ipython-input-33-5d3e30f3794b>, line 1)",
     "output_type": "error",
     "traceback": [
      "\u001b[0;36m  File \u001b[0;32m\"<ipython-input-33-5d3e30f3794b>\"\u001b[0;36m, line \u001b[0;32m1\u001b[0m\n\u001b[0;31m    headers = ['User-Agent':\"Mozilla/5.0 (Macintosh; Intel Mac OS X 10_13_6) AppleWebKit/537.36 (KHTML, like Gecko) Chrome/73.0.3683.86 Safari/537.36\",\u001b[0m\n\u001b[0m                           ^\u001b[0m\n\u001b[0;31mSyntaxError\u001b[0m\u001b[0;31m:\u001b[0m invalid syntax\n"
     ]
    }
   ],
   "source": [
    "headers = ['User-Agent':\"Mozilla/5.0 (Macintosh; Intel Mac OS X 10_13_6) AppleWebKit/537.36 (KHTML, like Gecko) Chrome/73.0.3683.86 Safari/537.36\",\n",
    "           'Cookie':session_value,\n",
    "          ]"
   ]
  },
  {
   "cell_type": "code",
   "execution_count": 34,
   "metadata": {},
   "outputs": [
    {
     "ename": "NameError",
     "evalue": "name 'headers' is not defined",
     "output_type": "error",
     "traceback": [
      "\u001b[0;31m---------------------------------------------------------------------------\u001b[0m",
      "\u001b[0;31mNameError\u001b[0m                                 Traceback (most recent call last)",
      "\u001b[0;32m<ipython-input-34-f230cf211292>\u001b[0m in \u001b[0;36m<module>\u001b[0;34m\u001b[0m\n\u001b[0;32m----> 1\u001b[0;31m \u001b[0mresp2\u001b[0m \u001b[0;34m=\u001b[0m \u001b[0mrequests\u001b[0m\u001b[0;34m.\u001b[0m\u001b[0mget\u001b[0m\u001b[0;34m(\u001b[0m\u001b[0;34m'http://127.0.0.1:5000/add_duty'\u001b[0m\u001b[0;34m,\u001b[0m\u001b[0mheaders\u001b[0m\u001b[0;34m=\u001b[0m\u001b[0mheaders\u001b[0m\u001b[0;34m)\u001b[0m\u001b[0;34m\u001b[0m\u001b[0;34m\u001b[0m\u001b[0m\n\u001b[0m",
      "\u001b[0;31mNameError\u001b[0m: name 'headers' is not defined"
     ]
    }
   ],
   "source": [
    "resp2 = requests.get('http://127.0.0.1:5000/add_duty',headers=headers)"
   ]
  },
  {
   "cell_type": "code",
   "execution_count": 35,
   "metadata": {},
   "outputs": [
    {
     "data": {
      "text/plain": [
       "'<html>\\n<head>\\n\\t<meta charset=\"utf-8\"/>\\n\\t <!-- Bootstrap core CSS -->\\n  \\t<link href=\"http://127.0.0.1:5000/static/bootstrap/css/bootstrap.css\" rel=\"stylesheet\">\\n  \\t<link rel=\"stylesheet\" href=\"http://127.0.0.1:5000/static/bootstrap/font-awesome/css/font-awesome.min.css\">\\n</head>\\n<body>\\n<nav class=\"navbar navbar-inverse container\">\\n  <div class=\"container\">\\n    <!-- Brand and toggle get grouped for better mobile display -->\\n    <div class=\"navbar-header\">\\n      <button type=\"button\" class=\"navbar-toggle collapsed\" data-toggle=\"collapse\" data-target=\"#bs-example-navbar-collapse-1\" aria-expanded=\"false\">\\n        <span class=\"sr-only\">Toggle navigation</span>\\n        <span class=\"icon-bar\"></span>\\n        <span class=\"icon-bar\"></span>\\n        <span class=\"icon-bar\"></span>\\n      </button>\\n      <a class=\"navbar-brand\" href=\"#\">生活点滴</a>\\n    </div>\\n\\n    <!-- Collect the nav links, forms, and other content for toggling -->\\n    <div class=\"collapse navbar-collapse\" id=\"bs-example-navbar-collapse-1\">\\n      <ul class=\"nav navbar-nav navbar-right\">\\n          \\n              <li><a href=\"/register\">Register</a></li>\\n              <li><a href=\"/login\">Login</a></li>\\n          \\n      </ul>\\n    </div><!-- /.navbar-collapse -->\\n  </div><!-- /.container-fluid -->\\n</nav>\\n\\n  <div class=\"container\">\\n       \\n            \\n            \\n          \\n  </div>\\n  \\n<div class=\"container\">\\n\\t<div class=\"page-header\">\\n\\t\\t<div class=\"row\">\\n\\t\\t\\t    <div class=\"col-md-3\"></div>\\n\\t\\t\\t    <div class=\"col-md-6\">\\n\\t\\t\\t    \\t\\t<div class=\"list-group\">\\n\\t\\t\\t\\t\\t\\t<a class=\"list-group-item active\">\\n\\t\\t\\t\\t\\t\\t    <h4 class=\"list-group-item-heading\">Login</h4>\\n\\t\\t\\t\\t\\t\\t</a>\\n\\t\\t\\t\\t</div>\\n\\t\\t      <form action=\"/login\" method=\"post\">\\n\\t\\t        <div class=\"form-group\">\\n\\t\\t          <label for=\"username\">Phone</label>\\n\\t\\t          <input type=\"text\" class=\"form-control\" name=\"phone\" id=\"username\" placeholder=\"username/phone\">\\n\\t\\t        </div>\\n\\t\\t        <div class=\"form-group\">\\n\\t\\t          <label for=\"password\">Password</label>\\n\\t\\t          <input type=\"password\" class=\"form-control\"  name=\"password\" id=\"password\" placeholder=\"password\">\\n\\t\\t        </div>\\n\\t\\t        <button type=\"submit\" class=\"btn btn-primary btn-lg\">Login</button>\\n\\t\\t      </form>\\n\\t\\t    </div>\\n\\t\\t    <div class=\"col-md-3\"></div>\\n\\t\\t  </div>\\n\\t</div>\\n</div>\\n\\n  <!-- JavaScript -->\\n  <script src=\"http://127.0.0.1:5000/static/bootstrap/js/jquery.js\"></script>\\n  <script src=\"http://127.0.0.1:5000/static/bootstrap/js/bootstrap.js\"></script>\\n  <nav class=\"navbar navbar-default navbar-fixed-bottom\">\\n  <div class=\"container\">\\n        \\n  </div><!-- /.container-fluid -->\\n  </nav>\\n</body>\\n</html>'"
      ]
     },
     "execution_count": 35,
     "metadata": {},
     "output_type": "execute_result"
    }
   ],
   "source": [
    "resp2.text"
   ]
  },
  {
   "cell_type": "code",
   "execution_count": 36,
   "metadata": {},
   "outputs": [],
   "source": [
    "from lxml import etree"
   ]
  },
  {
   "cell_type": "code",
   "execution_count": 38,
   "metadata": {},
   "outputs": [
    {
     "name": "stdout",
     "output_type": "stream",
     "text": [
      "['用户：admin']\n"
     ]
    }
   ],
   "source": [
    "import requests\n",
    "from lxml import etree\n",
    "url = \"http://127.0.0.1:5000/login\"\n",
    "form_data = {\n",
    "    \"phone\":\"admin\",\n",
    "    \"password\":\"admin123\",\n",
    "}\n",
    "response = requests.post(url=url,data=form_data)\n",
    "session_value = response.history[0].headers['Set-Cookie']\n",
    "headers = {'User-Agent':\"Mozilla/5.0 (Macintosh; Intel Mac OS X 10_13_6) AppleWebKit/537.36 (KHTML, like Gecko) Chrome/73.0.3683.86 Safari/537.36\",\n",
    "          'Cookie':session_value,\n",
    "          }\n",
    "resp = requests.get('http://127.0.0.1:5000/add_duty',headers=headers)\n",
    "html = etree.HTML(resp.text)\n",
    "print(html.xpath('.//a[@class=\"username\"]/text()'))"
   ]
  },
  {
   "cell_type": "code",
   "execution_count": null,
   "metadata": {},
   "outputs": [],
   "source": []
  }
 ],
 "metadata": {
  "kernelspec": {
   "display_name": "Python 3",
   "language": "python",
   "name": "python3"
  },
  "language_info": {
   "codemirror_mode": {
    "name": "ipython",
    "version": 3
   },
   "file_extension": ".py",
   "mimetype": "text/x-python",
   "name": "python",
   "nbconvert_exporter": "python",
   "pygments_lexer": "ipython3",
   "version": "3.7.1"
  }
 },
 "nbformat": 4,
 "nbformat_minor": 2
}
